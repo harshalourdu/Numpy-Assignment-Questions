{
 "cells": [
  {
   "cell_type": "markdown",
   "id": "f65357e9-cde8-4069-bd40-6f802f413796",
   "metadata": {},
   "source": [
    " 1. What is a Python library? Why do we use Python libraries?"
   ]
  },
  {
   "cell_type": "markdown",
   "id": "6167a9e8-011b-413c-a5e3-ddbaf4d4972d",
   "metadata": {},
   "source": [
    "Python libraries are collections of pre-written code and functions that extend the capabilities of the Python programming language. They provide a wide range of tools and modules for various tasks, making it easier for developers to work on specific tasks without reinventing the wheel.\n",
    "\n",
    "We use Python Libraries because it makes Python programming easier and simpler. Since then, we will not need to compose the same code for various projects."
   ]
  },
  {
   "cell_type": "markdown",
   "id": "ed1ece6f-9f04-4ed0-9028-b52a2b29d089",
   "metadata": {},
   "source": [
    "2. What is the difference between Numpy array and List?"
   ]
  },
  {
   "cell_type": "markdown",
   "id": "2ef72094-9626-459e-8d66-982740fb60e0",
   "metadata": {},
   "source": [
    "Numpy arrays is a typed array, the array in memory stores a homogenous, densely packed numbers.\n",
    "\n",
    "Python list is a heterogeneous list, the list in memory stores references to objects rather than the number themselves. "
   ]
  },
  {
   "cell_type": "markdown",
   "id": "e3428b9f-013d-45b2-a8ac-408bb34c05a0",
   "metadata": {},
   "source": [
    "3. Find the shape, size and dimension of the following array?\n",
    "[[1, 2, 3, 4]\n",
    "[5, 6, 7, 8],\n",
    "[9, 10, 11, 12]]"
   ]
  },
  {
   "cell_type": "code",
   "execution_count": 8,
   "id": "a223d62f-1b4b-458e-ae8b-cda2ff1e22b1",
   "metadata": {},
   "outputs": [
    {
     "name": "stdout",
     "output_type": "stream",
     "text": [
      "(3, 4)\n",
      "12\n",
      "2\n"
     ]
    }
   ],
   "source": [
    "import numpy as np\n",
    "arr = np.array([[1, 2, 3, 4], [5, 6, 7, 8], [9, 10, 11, 12]])\n",
    "\n",
    "print(arr.shape) \n",
    "print(arr.size)\n",
    "print(arr.ndim)"
   ]
  },
  {
   "cell_type": "markdown",
   "id": "d28955a9-b35b-44e3-82ba-3e232f628117",
   "metadata": {},
   "source": [
    "4. Write python code to access the first row of the following array?\n",
    "[[1, 2, 3, 4]\n",
    "[5, 6, 7, 8],\n",
    "[9, 10, 11, 12]]"
   ]
  },
  {
   "cell_type": "code",
   "execution_count": 12,
   "id": "24735dee-7781-4fda-94e4-1d6d5faadb29",
   "metadata": {},
   "outputs": [
    {
     "name": "stdout",
     "output_type": "stream",
     "text": [
      "[1 2 3 4]\n"
     ]
    }
   ],
   "source": [
    "import numpy as np\n",
    "arr1 = np.array([[1, 2, 3, 4], [5, 6, 7, 8], [9, 10, 11, 12]])\n",
    "print(arr1[0])"
   ]
  },
  {
   "cell_type": "markdown",
   "id": "1e4bb017-b094-4a91-a23a-ba18dfdd652a",
   "metadata": {},
   "source": [
    "5. How do you access the element at the third row and fourth column from the given numpy array?\n",
    "[[1, 2, 3, 4]\n",
    "[5, 6, 7, 8],\n",
    "[9, 10, 11, 12]]"
   ]
  },
  {
   "cell_type": "code",
   "execution_count": 38,
   "id": "a55c9e10-9634-494a-85c5-3a11e6e25b57",
   "metadata": {},
   "outputs": [
    {
     "name": "stdout",
     "output_type": "stream",
     "text": [
      "Original array:\n",
      "[[ 0  1  2  3]\n",
      " [ 4  5  6  7]\n",
      " [ 8  9 10 11]\n",
      " [12 13 14 15]]\n",
      "\n",
      "Extracted data: Third and fourth elements of the first and second rows\n",
      "[[2 3]\n",
      " [6 7]]\n"
     ]
    }
   ],
   "source": [
    "import numpy as np\n",
    "arra_data = np.arange(0, 16).reshape((4, 4))\n",
    "print(\"Original array:\")\n",
    "print(arra_data)\n",
    "print(\"\\nExtracted data: Third and fourth elements of the first and second rows\")\n",
    "print(arra_data[0:2, 2:4])"
   ]
  },
  {
   "cell_type": "markdown",
   "id": "b2e9ca13-86e1-4b80-8e83-eff3e4b3682b",
   "metadata": {},
   "source": [
    "6. Write code to extract all odd-indexed elements from the given numpy array?\n",
    "[[1, 2, 3, 4]\n",
    "[5, 6, 7, 8],\n",
    "[9, 10, 11, 12]]"
   ]
  },
  {
   "cell_type": "code",
   "execution_count": 40,
   "id": "3ee1eedb-f683-4f03-bfff-6f646d42eda1",
   "metadata": {},
   "outputs": [
    {
     "data": {
      "text/plain": [
       "array([ 1,  3,  5,  7,  9, 11])"
      ]
     },
     "execution_count": 40,
     "metadata": {},
     "output_type": "execute_result"
    }
   ],
   "source": [
    "import numpy as np\n",
    "a = np.array([[1, 2, 3, 4], [5, 6, 7, 8], [9, 10, 11, 12]])\n",
    "a[a % 2 == 1]"
   ]
  },
  {
   "cell_type": "markdown",
   "id": "1984b177-e769-4a13-8898-2a1c170ce7fc",
   "metadata": {},
   "source": [
    "7. How can you generate a random 3x3 matrix with values between 0 and 1?"
   ]
  },
  {
   "cell_type": "code",
   "execution_count": 41,
   "id": "dcaa31f6-e4bc-456e-8bb9-a3e69611097d",
   "metadata": {},
   "outputs": [
    {
     "name": "stdout",
     "output_type": "stream",
     "text": [
      "[[[0.02033791 0.04057922 0.09598629]\n",
      "  [0.93665885 0.55873521 0.15116268]\n",
      "  [0.8332048  0.4224863  0.83351567]]\n",
      "\n",
      " [[0.15341395 0.13600708 0.51729445]\n",
      "  [0.12124431 0.17768071 0.68354699]\n",
      "  [0.83385399 0.14921844 0.78115532]]\n",
      "\n",
      " [[0.00928951 0.0149978  0.51313871]\n",
      "  [0.55394533 0.95058361 0.53957088]\n",
      "  [0.15535252 0.31751784 0.52757301]]]\n"
     ]
    }
   ],
   "source": [
    "import numpy as np\n",
    "x = np.random.random((3, 3, 3))\n",
    "print(x) "
   ]
  },
  {
   "cell_type": "markdown",
   "id": "65558f93-d553-4620-a561-48123660863c",
   "metadata": {},
   "source": [
    "8. Describe the difference between np.random.r and and np.random.randn?"
   ]
  },
  {
   "cell_type": "markdown",
   "id": "cb4294c8-7ac2-44b0-97e3-6fa473742cc3",
   "metadata": {},
   "source": [
    "random. rand() produces random numbers from a uniform distribution over the interval [0, 1), while np. random. randn() generates random numbers from a standard normal distribution."
   ]
  },
  {
   "cell_type": "code",
   "execution_count": null,
   "id": "efbec784-f5ae-47dd-ba91-dbda5cfe40b0",
   "metadata": {},
   "outputs": [],
   "source": []
  },
  {
   "cell_type": "markdown",
   "id": "1de1e4f7-ee98-41aa-8559-45a17435717e",
   "metadata": {},
   "source": [
    "9. Write code to increase the dimension of the following array?\n",
    "[[1, 2, 3, 4]\n",
    "[5, 6, 7, 8],\n",
    "[9, 10, 11, 12]]"
   ]
  },
  {
   "cell_type": "code",
   "execution_count": 43,
   "id": "e9568aa8-16fd-4395-812e-e02a99f31dc2",
   "metadata": {},
   "outputs": [],
   "source": [
    "import numpy\n",
    "numLabels = 10\n",
    "X = numpy.random.rand(20,)\n",
    "offset = numpy.full((20,),0.07) \n",
    "Y = numpy.zeros((20,numLabels))\n",
    "\n",
    "for l in range(numLabels):\n",
    "    Y[:,l] = X + (l-4.5)*offset"
   ]
  },
  {
   "cell_type": "markdown",
   "id": "fa307172-bd65-491f-9656-c1ec47737ce8",
   "metadata": {},
   "source": [
    "10. How to transpose the following array in NumPy?\n",
    "[[1, 2, 3, 4]\n",
    "[5, 6, 7, 8],\n",
    "[9, 10, 11, 12]]"
   ]
  },
  {
   "cell_type": "code",
   "execution_count": 45,
   "id": "027a4aaf-f54f-4731-8437-53e9dcca6b13",
   "metadata": {},
   "outputs": [
    {
     "name": "stdout",
     "output_type": "stream",
     "text": [
      "[[ 1  2  3  4]\n",
      " [ 5  6  7  8]\n",
      " [ 9 10 11 12]]\n",
      "\n",
      "[[ 1  5  9]\n",
      " [ 2  6 10]\n",
      " [ 3  7 11]\n",
      " [ 4  8 12]]\n"
     ]
    }
   ],
   "source": [
    "import numpy as np\n",
    " \n",
    "# making a 3x3 array\n",
    "gfg = np.array([[1, 2, 3, 4] , [5, 6, 7, 8], [9, 10, 11, 12]])\n",
    " \n",
    "# before transpose\n",
    "print(gfg, end ='\\n\\n')\n",
    " \n",
    "# after transpose\n",
    "print(gfg.transpose())"
   ]
  },
  {
   "cell_type": "markdown",
   "id": "9f4ebb6e-58e3-468d-803d-6de66b8f9526",
   "metadata": {},
   "source": [
    "11. Consider the following matrix:\n",
    "Matrix A2 [[1, 2, 3, 4] [5, 6, 7, 8],[9, 10, 11, 12]]\n",
    "Matrix B2 [[1, 2, 3, 4] [5, 6, 7, 8],[9, 10, 11, 12]]\n",
    "\n",
    "Perform the following operation using Python:\n",
    "1. Index wise multiplication\n",
    "2. Matix multiplication\n",
    "3. Add both the matics\n",
    "4. Subtract matrix from B to A\n",
    "5. Dive matrix B by A"
   ]
  },
  {
   "cell_type": "markdown",
   "id": "92dd4f67-ae4f-4cbc-975d-1205997fe4c7",
   "metadata": {},
   "source": [
    "12. Which function in Numpy can be used to swap the byte order of an array?"
   ]
  },
  {
   "cell_type": "markdown",
   "id": "3883f391-74e1-480f-93b2-22b6a6756a79",
   "metadata": {},
   "source": [
    "byteswap() method swaps the bytes of the array elements. It toggles between low-endian and big-endian data representation by returning a byteswapped array, optionally swapped in-place."
   ]
  },
  {
   "cell_type": "markdown",
   "id": "0dba2771-cd07-415e-86f6-50fc36822d2e",
   "metadata": {},
   "source": [
    "13. What is the significance of the np.linalg.inv function?"
   ]
  },
  {
   "cell_type": "markdown",
   "id": "396d7fb7-0105-450e-9c6a-785f87154ce9",
   "metadata": {},
   "source": [
    "We use numpy. linalg. inv() function to calculate the inverse of a matrix. The inverse of a matrix is such that if it is multiplied by the original matrix, it results in identity matrix."
   ]
  },
  {
   "cell_type": "markdown",
   "id": "4c3dab4c-55b2-4dc3-8fb4-ed3e465578c8",
   "metadata": {},
   "source": [
    "14. What does the np.reshape function do, and how is it used?\n"
   ]
  },
  {
   "cell_type": "markdown",
   "id": "a5eb6edc-9762-4707-a7b3-88fe7745ace4",
   "metadata": {},
   "source": [
    "Change an Array's Shape Using NumPy reshape() NumPy's reshape() enables you to change the shape of an array into another compatible shape. Not all shapes are compatible since all the elements from the original array needs to fit into the new array. You can use reshape() as either a function or a method."
   ]
  },
  {
   "cell_type": "markdown",
   "id": "e57d0982-de9e-4056-87bb-42a37c8742f9",
   "metadata": {},
   "source": [
    "15. What is broadcasting in Numpy?"
   ]
  },
  {
   "cell_type": "markdown",
   "id": "add1725e-cafd-4f79-95cf-9cfe1e507d70",
   "metadata": {},
   "source": [
    "numpy.broadcast. The term broadcasting describes how NumPy treats arrays with different shapes during arithmetic operations. Subject to certain constraints, the smaller array is “broadcast” across the larger array so that they have compatible shapes."
   ]
  },
  {
   "cell_type": "code",
   "execution_count": null,
   "id": "ec09994d-8225-4918-ad11-88c44bdacf11",
   "metadata": {},
   "outputs": [],
   "source": []
  }
 ],
 "metadata": {
  "kernelspec": {
   "display_name": "Python 3 (ipykernel)",
   "language": "python",
   "name": "python3"
  },
  "language_info": {
   "codemirror_mode": {
    "name": "ipython",
    "version": 3
   },
   "file_extension": ".py",
   "mimetype": "text/x-python",
   "name": "python",
   "nbconvert_exporter": "python",
   "pygments_lexer": "ipython3",
   "version": "3.10.8"
  }
 },
 "nbformat": 4,
 "nbformat_minor": 5
}
